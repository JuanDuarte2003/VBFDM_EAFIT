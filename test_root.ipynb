{
 "cells": [
  {
   "cell_type": "code",
   "execution_count": 1,
   "metadata": {},
   "outputs": [],
   "source": [
    "import pandas as pd\n",
    "import uproot\n",
    "import numpy as np\n",
    "import awkward as ak"
   ]
  },
  {
   "cell_type": "code",
   "execution_count": 2,
   "metadata": {},
   "outputs": [],
   "source": [
    "test = pd.read_csv('./background/WpJets/WpJets_1.csv')"
   ]
  },
  {
   "cell_type": "code",
   "execution_count": 6,
   "metadata": {},
   "outputs": [],
   "source": [
    "tt = test.to_dict(orient='list')"
   ]
  },
  {
   "cell_type": "code",
   "execution_count": 8,
   "metadata": {},
   "outputs": [],
   "source": [
    "with uproot.recreate('./samples/wpjets/WpJets_1.root') as troot:\n",
    "    troot['VBF_treeVariables_step0'] = tt"
   ]
  },
  {
   "cell_type": "code",
   "execution_count": 9,
   "metadata": {},
   "outputs": [],
   "source": [
    "fname = './samples/wpjets/WpJets_1.root'\n",
    "fileRoot = uproot.open(fname)"
   ]
  },
  {
   "cell_type": "code",
   "execution_count": 11,
   "metadata": {},
   "outputs": [
    {
     "data": {
      "text/plain": [
       "['jet_pt0',\n",
       " 'jet_pt1',\n",
       " 'jet_pt2',\n",
       " 'jet_pt3',\n",
       " 'jet_eta0',\n",
       " 'jet_eta1',\n",
       " 'jet_eta2',\n",
       " 'jet_eta3',\n",
       " 'jet_phi0',\n",
       " 'jet_phi1',\n",
       " 'jet_phi2',\n",
       " 'jet_phi3',\n",
       " 'jet_mass0',\n",
       " 'jet_mass1',\n",
       " 'jet_mass2',\n",
       " 'jet_mass3',\n",
       " 'jet_btag0',\n",
       " 'jet_btag1',\n",
       " 'jet_btag2',\n",
       " 'jet_btag3',\n",
       " 'jet_tautag0',\n",
       " 'jet_tautag1',\n",
       " 'jet_tautag2',\n",
       " 'jet_tautag3',\n",
       " 'missinget_met',\n",
       " 'missinget_phi']"
      ]
     },
     "execution_count": 11,
     "metadata": {},
     "output_type": "execute_result"
    }
   ],
   "source": [
    "fileRoot['VBF_treeVariables_step0'].keys()"
   ]
  },
  {
   "cell_type": "code",
   "execution_count": null,
   "metadata": {},
   "outputs": [],
   "source": []
  }
 ],
 "metadata": {
  "kernelspec": {
   "display_name": "Python 3",
   "language": "python",
   "name": "python3"
  },
  "language_info": {
   "codemirror_mode": {
    "name": "ipython",
    "version": 3
   },
   "file_extension": ".py",
   "mimetype": "text/x-python",
   "name": "python",
   "nbconvert_exporter": "python",
   "pygments_lexer": "ipython3",
   "version": "3.10.13"
  }
 },
 "nbformat": 4,
 "nbformat_minor": 2
}
